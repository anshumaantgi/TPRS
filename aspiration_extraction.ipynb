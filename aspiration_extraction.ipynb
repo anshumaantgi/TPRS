{
 "cells": [
  {
   "cell_type": "markdown",
   "metadata": {},
   "source": [
    "# Stage 0: Load the Libraries"
   ]
  },
  {
   "cell_type": "code",
   "execution_count": 1,
   "metadata": {},
   "outputs": [],
   "source": [
    "# Stage 0: import Libraries\n",
    "import pandas\n",
    "import numpy\n",
    "import requests\n",
    "import json\n",
    "import boto3\n",
    "from langchain_aws import BedrockLLM\n",
    "from langchain_community.chat_models import BedrockChat"
   ]
  },
  {
   "cell_type": "markdown",
   "metadata": {},
   "source": [
    "# Stage 1: AWS Configuration and Define Global Variables\n"
   ]
  },
  {
   "cell_type": "code",
   "execution_count": 5,
   "metadata": {},
   "outputs": [],
   "source": [
    "llm = BedrockLLM(\n",
    "    model_id=\"mistral.mistral-large-2402-v1:0\"\n",
    ")"
   ]
  },
  {
   "cell_type": "code",
   "execution_count": 6,
   "metadata": {},
   "outputs": [],
   "source": [
    "#  Define AWS Global Variables\n",
    "AWS_KB_ID = \"OY4K3P2JUR\"\n",
    "client = boto3.client('bedrock-agent-runtime')\n",
    "\n",
    "\n"
   ]
  },
  {
   "cell_type": "code",
   "execution_count": 7,
   "metadata": {},
   "outputs": [],
   "source": [
    "# Define Aspiration\n",
    "ASPIRATION = \"I want to be a SAP consultant\"\n"
   ]
  },
  {
   "cell_type": "code",
   "execution_count": 15,
   "metadata": {},
   "outputs": [],
   "source": [
    "context = client.retrieve(knowledgeBaseId=AWS_KB_ID, retrievalQuery={\n",
    "        'text': ASPIRATION\n",
    "    })"
   ]
  },
  {
   "cell_type": "markdown",
   "metadata": {},
   "source": [
    "# Stage 2: Query the Knowledge Base and Transform the context"
   ]
  },
  {
   "cell_type": "code",
   "execution_count": 16,
   "metadata": {},
   "outputs": [],
   "source": [
    "response = client.retrieve(\n",
    "    knowledgeBaseId=AWS_KB_ID,\n",
    "     retrievalQuery={\n",
    "        'text': ASPIRATION,\n",
    "    }\n",
    ")\n",
    "\n",
    "\n"
   ]
  },
  {
   "cell_type": "markdown",
   "metadata": {},
   "source": [
    "# Stage 3: Prompt Design & Data Models"
   ]
  },
  {
   "cell_type": "code",
   "execution_count": 17,
   "metadata": {},
   "outputs": [],
   "source": [
    "# Stage 3: Prompt Design & Data Models\n",
    "\n",
    "skills_extraction_prompt = \"\"\"\n",
    "You are Career Consultant. You are tasked with extracting skills required to reach the aspiration below.\n",
    "\n",
    "Task:\n",
    "1. Understand the Job Descriptions below relevant to the aspiration.\n",
    "2. From your Undestanding, extract all the skill entities required to reach the aspiration.\n",
    "3. For each skill,be specfic, provide the actual skill extracted, do not combine skills together and list them out individually.\n",
    "4. Also provide justification of the reason why the skills is needed to reach the aspiration.\n",
    "5. For each skill level, be strict , Beginner: 0-1 years, Intermediate: 1-3 years, Advanced: 3-5 years, Expert: 5+ years.\n",
    "4. For each skill level, provide a justification of how the aspiration requires a skill of that level.\n",
    "\n",
    "\n",
    "FORMAT Response Instruction:\n",
    "----------------\n",
    "{format_instructions}\n",
    "----------------\n",
    "\n",
    "\n",
    "----------------\n",
    "aspiration: {aspiration}\n",
    "----------------\n",
    "----------------\n",
    "job descriptions: {job_descriptions}\n",
    "----------------\n",
    "\n",
    "\n",
    "\n",
    "\"\"\"\n",
    "\n",
    "fix_format_instruction = \"\"\"\n",
    "--------------\n",
    "{instructions}\n",
    "--------------\n",
    "Completion:\n",
    "--------------\n",
    "{completion}\n",
    "--------------\n",
    "Above, the Completion did not satisfy the constraints given in the Instructions.\n",
    "Error:\n",
    "--------------\n",
    "{error}\n",
    "--------------\n",
    "Please try again. Please only respond with an answer that satisfies the constraints laid out in the Instructions.\n",
    "Important:  Only correct the structural issues within the JSON format. Do not modify the existing data values themselves:\n",
    "\"\"\""
   ]
  },
  {
   "cell_type": "code",
   "execution_count": 12,
   "metadata": {},
   "outputs": [],
   "source": [
    "# Data Models\n",
    "from typing import List\n",
    "from pydantic import BaseModel, Field\n",
    "\n",
    "# class Competency(BaseModel):\n",
    "#     competency_type: str = Field(..., description=\"Type of competency:Functional, Technical\")\n",
    "#     competency_name: str = Field(..., description=\"Name of the competency\")\n",
    "#     competency_description: str = Field(..., description=\"Description of how the client has demonstrated the competency in their resume\")\n",
    "\n",
    "# class Comptencies(BaseModel):\n",
    "#     competencies: List[Competency] = Field(..., description=\"List of competencies extracted from the resume\")\n",
    "\n",
    "class Skill(BaseModel):\n",
    "    skill_justification: str = Field(..., description=\"Justification of the extracted skill\")\n",
    "    skill: str = Field(..., description=\"Name of the skill\")\n",
    "    skill_level_justification : str = Field(..., description=\"Justification of the skill level\")    \n",
    "    skill_level: str = Field(..., description=\"Level of the skill\", enum=[\"Beginner\", \"Intermediate\", \"Advanced\", \"Expert\"])\n",
    "\n",
    "class Skills(BaseModel):\n",
    "    skills: List[Skill] = Field(..., description=\"List of skills and their corresponding skill level needed for the aspiration\")\n",
    "    \n"
   ]
  },
  {
   "cell_type": "markdown",
   "metadata": {},
   "source": [
    "# Stage 4: Extract Skills required for aspiration"
   ]
  },
  {
   "cell_type": "code",
   "execution_count": 20,
   "metadata": {},
   "outputs": [],
   "source": [
    "from langchain.prompts import PromptTemplate\n",
    "from langchain.output_parsers import PydanticOutputParser, OutputFixingParser\n",
    "from langchain.chains import TransformChain\n",
    "\n",
    "def fix_chain_fun(inputs):    \n",
    "    fix_prompt = PromptTemplate.from_template(fix_format_instruction)\n",
    "    fix_prompt_str = fix_prompt.invoke({'instructions':inputs['instructions'],\n",
    "                                        'completion':inputs['completion'],\n",
    "                                        'error':inputs['error']}).text\n",
    "    \n",
    "    #print(fix_prompt_str)\n",
    "    \n",
    "    completion = llm.invoke(fix_prompt_str)\n",
    "\n",
    "    return {\"completion\": completion}\n",
    "\n",
    "fix_chain = TransformChain(\n",
    "    input_variables = [\"instructions\", \"completion\", \"error\"],output_variables=[\"completion\"], transform=fix_chain_fun\n",
    ")\n",
    "\n",
    "def extract_skills(aspiration, job_descriptions: str) -> Skills:\n",
    "    # Invoke the LLM\n",
    "    parser = PydanticOutputParser(pydantic_object=Skills)\n",
    "    \n",
    "    fix_parser = OutputFixingParser(\n",
    "        parser=parser,\n",
    "        retry_chain=fix_chain,\n",
    "        max_retries=2\n",
    "    )\n",
    "\n",
    "    prompt = PromptTemplate(\n",
    "        template = skills_extraction_prompt, \n",
    "        input_variables=[\"aspiration\", \"job_descriptions\"],\n",
    "        partial_variables= {\"format_instructions\": parser.get_format_instructions()})\n",
    "    \n",
    "    prompt_str = prompt.format(aspiration=aspiration, job_descriptions=job_descriptions)\n",
    "\n",
    "    print(prompt_str)\n",
    "    \n",
    "    response = llm.invoke(prompt_str)\n",
    "    response = response\n",
    "\n",
    "    print(f\"Response is : {response}\")\n",
    "\n",
    "    fixed_response = fix_parser.invoke(response).dict()\n",
    "\n",
    "    return fixed_response\n",
    "\n"
   ]
  },
  {
   "cell_type": "code",
   "execution_count": 21,
   "metadata": {},
   "outputs": [
    {
     "name": "stdout",
     "output_type": "stream",
     "text": [
      "\n",
      "You are Career Consultant. You are tasked with extracting skills required to reach the aspiration below.\n",
      "\n",
      "Task:\n",
      "1. Understand the Job Descriptions below relevant to the aspiration.\n",
      "2. From your Undestanding, extract all the skill entities required to reach the aspiration.\n",
      "3. For each skill,be specfic, provide the actual skill extracted, do not combine skills together and list them out individually.\n",
      "4. Also provide justification of the reason why the skills is needed to reach the aspiration.\n",
      "5. For each skill level, be strict , Beginner: 0-1 years, Intermediate: 1-3 years, Advanced: 3-5 years, Expert: 5+ years.\n",
      "4. For each skill level, provide a justification of how the aspiration requires a skill of that level.\n",
      "\n",
      "\n",
      "FORMAT Response Instruction:\n",
      "----------------\n",
      "The output should be formatted as a JSON instance that conforms to the JSON schema below.\n",
      "\n",
      "As an example, for the schema {\"properties\": {\"foo\": {\"title\": \"Foo\", \"description\": \"a list of strings\", \"type\": \"array\", \"items\": {\"type\": \"string\"}}}, \"required\": [\"foo\"]}\n",
      "the object {\"foo\": [\"bar\", \"baz\"]} is a well-formatted instance of the schema. The object {\"properties\": {\"foo\": [\"bar\", \"baz\"]}} is not well-formatted.\n",
      "\n",
      "Here is the output schema:\n",
      "```\n",
      "{\"$defs\": {\"Skill\": {\"properties\": {\"skill_justification\": {\"description\": \"Justification of the extracted skill\", \"title\": \"Skill Justification\", \"type\": \"string\"}, \"skill\": {\"description\": \"Name of the skill\", \"title\": \"Skill\", \"type\": \"string\"}, \"skill_level_justification\": {\"description\": \"Justification of the skill level\", \"title\": \"Skill Level Justification\", \"type\": \"string\"}, \"skill_level\": {\"description\": \"Level of the skill\", \"enum\": [\"Beginner\", \"Intermediate\", \"Advanced\", \"Expert\"], \"title\": \"Skill Level\", \"type\": \"string\"}}, \"required\": [\"skill_justification\", \"skill\", \"skill_level_justification\", \"skill_level\"], \"title\": \"Skill\", \"type\": \"object\"}}, \"properties\": {\"skills\": {\"description\": \"List of skills and their corresponding skill level needed for the aspiration\", \"items\": {\"$ref\": \"#/$defs/Skill\"}, \"title\": \"Skills\", \"type\": \"array\"}}, \"required\": [\"skills\"]}\n",
      "```\n",
      "----------------\n",
      "\n",
      "\n",
      "----------------\n",
      "aspiration: I want to be a SAP consultant\n",
      "----------------\n",
      "----------------\n",
      "job descriptions: {'ResponseMetadata': {'RequestId': 'dad87370-6407-4347-b742-f61bdb29af2c', 'HTTPStatusCode': 200, 'HTTPHeaders': {'date': 'Fri, 19 Jul 2024 17:03:49 GMT', 'content-type': 'application/json', 'content-length': '7961', 'connection': 'keep-alive', 'x-amzn-requestid': 'dad87370-6407-4347-b742-f61bdb29af2c'}, 'RetryAttempts': 0}, 'retrievalResults': [{'content': {'text': \"Build strong, trusting relationships with your clients’ senior leaders to help Accenture become the go-to partner in bringing their long-term fashion or retail vision to life Grow Accenture’s SAP practice by leading business development, proposal submission, and sales efforts Serve as an expert and thought leader in the Accenture SAP practice by continuing to build your own and your team’s expertise in SAP Travel may be required for this role. The amount of travel will vary from 0 to 100% depending on business need and client requirements Here’s What You Need: Minimum 8 years of experience in SAP Fashion, SAP Retail, and/or SAP CAR Minimum 3 end-to-end SAP fashion or retail implementations, including project planning, estimation and solution architecture Minimum 6 years of experience in Project Management Experience managing teams of 15+, including offshore teams Bachelor's degree or equivalent (minimum 12 years' work experience).\"}, 'location': {'s3Location': {'uri': 's3://kaggle-jobs/job_skills_summary_1k.txt'}, 'type': 'S3'}, 'metadata': {'x-amz-bedrock-kb-source-uri': 's3://kaggle-jobs/job_skills_summary_1k.txt', 'x-amz-bedrock-kb-chunk-id': '1%3A0%3A51nqxpAB1bNwW3QZhJDK', 'x-amz-bedrock-kb-data-source-id': 'ODUMMFWVOS'}, 'score': 0.47217405}, {'content': {'text': \"------ JOB SUMMARY: We Are: We are a team in Accenture comprised by highly experienced SAP Retail practitioners, with strong Consulting skills and Retail Industry acumen, focused on helping our clients transform their organizations and realize business outcomes leveraging SAP technologies. Our clients are leading organizations in their industry segments. We are the ‘tip’ of the spear in helping our clients define and execute their Digital ERP strategy using SAP S/HANA. We provide the industry perspective regarding assessments, roadmaps, and solutioning. We deliver and lead large, complex and/or innovative solutions to enable business transformation initiatives leveraged by SAP technologies. We use modern technologies i.e. cloud, AI, ML and SAP latest products to innovate and update our proprietary tools and accelerators to compress SAP transformation in Retail, with a holistic approach that covers Value realization, Business Processes, Data, Technology, and People. We put strong emphasis on training our people on S/4HANA and all the new cloud products from SAP, both functionally and technically – with the support of our 70,000+ member community. It’s also nice to know our hard work doesn’t go unrecognized. We’ve got over 70 SAP awards—more than any other partner. Visit us here to find out more about Accenture's SAP practice. You Are: A seasoned SAP Retail practitioner, with experience working with and helping fortune 500 Retail clients meet the challenges of modernizing and digitizing their enterprises. You possess broad transformation and industry experience, and deep SAP functional and technical skills.\"}, 'location': {'s3Location': {'uri': 's3://kaggle-jobs/job_skills_summary_1k.txt'}, 'type': 'S3'}, 'metadata': {'x-amz-bedrock-kb-source-uri': 's3://kaggle-jobs/job_skills_summary_1k.txt', 'x-amz-bedrock-kb-chunk-id': '1%3A0%3A5FnqxpAB1bNwW3QZhJDK', 'x-amz-bedrock-kb-data-source-id': 'ODUMMFWVOS'}, 'score': 0.45561123}, {'content': {'text': 'You can lead projects and teams, as well as dive into the details of the solution and work plans. You are a good story teller, with proven communication and executive presence skills and are as comfortable inspiring teams as you are presenting to the C-suite. Seeking an opportunity to continue to grow and make strategic decisions that will have a lasting impact for our clients and Accenture. The Work: Use your fashion and/or retail industry and technical expertise to decipher clients’ needs in retail merchandising and operations Lead teams of consultants to advise clients on using SAP to build state-of-the-art retail merchandising and operations solutions powered by SAP tools such as CAR & MAP. Build strong, trusting relationships with your clients’ senior leaders to help Accenture become the go-to partner in bringing their long-term fashion or retail vision to life Grow Accenture’s SAP practice by leading business development, proposal submission, and sales efforts Serve as an expert and thought leader in the Accenture SAP practice by continuing to build your own and your team’s expertise in SAP Travel may be required for this role.'}, 'location': {'s3Location': {'uri': 's3://kaggle-jobs/job_skills_summary_1k.txt'}, 'type': 'S3'}, 'metadata': {'x-amz-bedrock-kb-source-uri': 's3://kaggle-jobs/job_skills_summary_1k.txt', 'x-amz-bedrock-kb-chunk-id': '1%3A0%3A5lnqxpAB1bNwW3QZhJDK', 'x-amz-bedrock-kb-data-source-id': 'ODUMMFWVOS'}, 'score': 0.4546272}, {'content': {'text': \". Our clients are leading organizations in their industry segments. We are the ‘tip’ of the spear in helping our clients define and execute their Digital ERP strategy using SAP S/HANA. We provide the industry perspective regarding assessments, roadmaps, and solutioning. We deliver and lead large, complex and/or innovative solutions to enable business transformation initiatives leveraged by SAP technologies. We use modern technologies i.e. cloud, AI, ML and SAP latest products to innovate and update our proprietary tools and accelerators to compress SAP transformation in Retail, with a holistic approach that covers Value realization, Business Processes, Data, Technology, and People. We put strong emphasis on training our people on S/4HANA and all the new cloud products from SAP, both functionally and technically – with the support of our 70,000+ member community. It’s also nice to know our hard work doesn’t go unrecognized. We’ve got over 70 SAP awards—more than any other partner. Visit us here to find out more about Accenture's SAP practice. You Are: A seasoned SAP Retail practitioner, with experience working with and helping fortune 500 Retail clients meet the challenges of modernizing and digitizing their enterprises. You possess broad transformation and industry experience, and deep SAP functional and technical skills. You can lead projects and teams, as well as dive into the details of the solution and work plans. You are a good story teller, with proven communication and executive presence skills and are as comfortable inspiring teams as you are presenting to the C-suite.\"}, 'location': {'s3Location': {'uri': 's3://kaggle-jobs/job_skills_summary_1k.txt'}, 'type': 'S3'}, 'metadata': {'x-amz-bedrock-kb-source-uri': 's3://kaggle-jobs/job_skills_summary_1k.txt', 'x-amz-bedrock-kb-chunk-id': '1%3A0%3A5VnqxpAB1bNwW3QZhJDK', 'x-amz-bedrock-kb-data-source-id': 'ODUMMFWVOS'}, 'score': 0.44200945}, {'content': {'text': \"All qualified applicants will receive consideration for employment without regard to race, color, religion, sex, sexual orientation, gender identity, national origin, disability or veteran status, age or any other federally protected class. Privacy Policy and Terms: Click on this link to read the Policy and Terms 01670068 Show more Show less JOB SKILLS:Configuration management, Product Data Management (PDM), SAP, Microsoft Office Suite (Word Excel PowerPoint), Project planning, Security clearance, Teamwork, Leadership, Problemsolving, Bachelor's degree in Business or Science, 5 years of configuration management experience, Windchill --------------------------------------------- --------------------------------------------- JOB SUMMARY: Now Hiring Immediately! What We Can Offer You Every team member deserves the star treatment! Each career comes with a variety of benefits for both hourly and salaried team members.\"}, 'location': {'s3Location': {'uri': 's3://kaggle-jobs/job_skills_summary_1k.txt'}, 'type': 'S3'}, 'metadata': {'x-amz-bedrock-kb-source-uri': 's3://kaggle-jobs/job_skills_summary_1k.txt', 'x-amz-bedrock-kb-chunk-id': '1%3A0%3A8lnqxpAB1bNwW3QZm5I5', 'x-amz-bedrock-kb-data-source-id': 'ODUMMFWVOS'}, 'score': 0.42549706}]}\n",
      "----------------\n",
      "\n",
      "\n",
      "\n",
      "\n",
      "Response is : {\n",
      "  \"skills\": [\n",
      "    {\n",
      "      \"skill_justification\": \"The job descriptions mention the need to build strong relationships with clients' senior leaders. This requires strong interpersonal skills to communicate effectively and build trust.\",\n",
      "      \"skill\": \"Interpersonal skills\",\n",
      "      \"skill_level_justification\": \"The aspiration requires an advanced level of interpersonal skills as it involves dealing with senior leaders and building strong relationships with them.\",\n",
      "      \"skill_level\": \"Advanced\"\n",
      "    },\n",
      "    {\n",
      "      \"skill_justification\": \"The job descriptions mention the need to lead business development, proposal submission, and sales efforts. This requires strong business development skills to identify new business opportunities and grow the SAP practice.\",\n",
      "      \"skill\": \"Business development\",\n",
      "      \"skill_level_justification\": \"The aspiration requires an advanced level of business development skills as it involves leading business development efforts and growing the SAP practice.\",\n",
      "      \"skill_level\": \"Advanced\"\n",
      "    },\n",
      "    {\n",
      "      \"skill_justification\": \"The job descriptions mention the need to serve as an expert and thought leader in the Accenture SAP practice. This requires strong expertise in SAP to provide thought leadership and continue to build your own and your team’s expertise in SAP.\",\n",
      "      \"skill\": \"SAP expertise\",\n",
      "      \"skill_level_justification\": \"The aspiration requires an expert level of SAP expertise as it involves serving as an expert and thought leader in the Accenture SAP practice.\",\n",
      "      \"skill_level\": \"Expert\"\n",
      "    },\n",
      "    {\n",
      "      \"skill_justification\": \"The job descriptions mention the need to manage teams of 15+, including offshore teams. This requires strong team management skills to effectively manage and lead teams.\",\n",
      "      \"skill\": \"Team management\",\n",
      "      \"skill_level_justification\": \"The aspiration requires an advanced level of team management skills as it involves managing teams of 15+, including offshore teams.\",\n",
      "      \"skill_level\": \"Advanced\"\n",
      "    },\n",
      "    {\n",
      "      \"skill_justification\": \"The job descriptions mention the need to have experience in project management. This requires strong project management skills to effectively plan, estimate and lead SAP implementations.\",\n",
      "      \"skill\": \"Project management\",\n",
      "      \"skill_level_justification\": \"The aspiration requires an advanced level of project management skills as it involves leading end-to-end SAP fashion or retail implementations, including project planning, estimation and solution architecture.\",\n",
      "      \"skill_level\": \"Advanced\"\n",
      "    },\n",
      "    {\n",
      "      \"skill_justification\": \"The job descriptions mention the need to have a Bachelor's degree or equivalent. This requires a basic level of education to meet the minimum requirements for the role.\",\n",
      "      \"skill\": \"Education\",\n",
      "      \"skill_level_justification\": \"The aspiration requires a beginner level of education as it involves having a Bachelor's degree or equivalent.\",\n",
      "      \"skill_level\": \"Beginner\"\n",
      "    }\n",
      "  ]\n",
      "}\n"
     ]
    }
   ],
   "source": [
    "aspiration_extracted_skills = extract_skills(ASPIRATION, context)"
   ]
  },
  {
   "cell_type": "code",
   "execution_count": 22,
   "metadata": {},
   "outputs": [],
   "source": [
    "with open(\"aspiration_extracted_skills.json\", \"w\") as f:\n",
    "    json.dump(aspiration_extracted_skills, f, indent=4) "
   ]
  }
 ],
 "metadata": {
  "kernelspec": {
   "display_name": "env",
   "language": "python",
   "name": "python3"
  },
  "language_info": {
   "codemirror_mode": {
    "name": "ipython",
    "version": 3
   },
   "file_extension": ".py",
   "mimetype": "text/x-python",
   "name": "python",
   "nbconvert_exporter": "python",
   "pygments_lexer": "ipython3",
   "version": "3.9.9"
  }
 },
 "nbformat": 4,
 "nbformat_minor": 2
}

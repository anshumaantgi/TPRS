{
 "cells": [
  {
   "cell_type": "markdown",
   "metadata": {},
   "source": [
    "# Stage 0: Load the Libraries"
   ]
  },
  {
   "cell_type": "code",
   "execution_count": 23,
   "metadata": {},
   "outputs": [
    {
     "data": {
      "text/plain": [
       "True"
      ]
     },
     "execution_count": 23,
     "metadata": {},
     "output_type": "execute_result"
    }
   ],
   "source": [
    "import pandas\n",
    "import numpy\n",
    "from pypdf import PdfReader\n",
    "import boto3\n",
    "from langchain_aws import BedrockLLM\n"
   ]
  },
  {
   "cell_type": "markdown",
   "metadata": {},
   "source": [
    "# Stage 1: Load the Data"
   ]
  },
  {
   "cell_type": "code",
   "execution_count": 4,
   "metadata": {},
   "outputs": [],
   "source": [
    "# Load the Resume \n",
    "RESUME_FILE_PATH = \"resume_extraction/data/test_resume.pdf\""
   ]
  },
  {
   "cell_type": "code",
   "execution_count": 9,
   "metadata": {},
   "outputs": [
    {
     "data": {
      "text/plain": [
       "\"ANSHUMAAN TYAGI\\nHP: +65 80169372      Email: e0866249@u.nus.edu\\nEDUCATION\\nNational University of Singapore Aug 2021 - May 2025\\nMajor: Bachelor of Computing in Computer Science(Honours)\\n\\uf0b7Second Major: Data Science.\\n\\uf0b7Specialisation Track: Software Engineering and Artificial Intelligence.\\n\\uf0b7GPA: 4.31/5.\\n \\nTECHNICAL SKILLS\\n\\uf0b7Proficient languages: Python, Java ,SQL,  Javascript, HTML and CSS\\n\\uf0b7Proficient frameworks/libraries: Pytorch, Numpy, Django, PostgreSQL, React & React Native,Node.js, \\nSklearn, Firebase, Excel\\n\\uf0b7Knowledge of: MongoDB, LINUX/UNIX administration , R, Azure Open AI, GPT prompting, \\nembeddings, Spacy\\n \\nWORK EXPERIENCE\\nAI Developer, SAP, Singapore Jan 2023 - Present\\n\\uf0b7Integrating GPT powered by Azure Open AI endpoints in the current pipeline to perform parsing of \\nPDF documents.\\n\\uf0b7Improving GPT response efficiency by 5 percent and data security.\\n\\uf0b7Utilized different prompting techniques such as RAG and chain of thought to minimize AI \\nhallucinations.\\n\\uf0b7Competed regular bimonthly sprints and planned work product on JIRA.\\n\\uf0b7Learned more about SAP product's applications and implementation frameworks.\\n \\nData Engineer Intern, Real Estate Analytics, Singapore, Singapore Aug 2023 - Present\\n\\uf0b7Extract, transform, and ingest real estate data from different sources and create workflows on Apache \\nAirflow.\\n\\uf0b7Build a robust program for data extraction with various queries leveraging restful API and  GraphQL, \\nand GUI scraping bots using selenium.\\n\\uf0b7Collaborated with data engineers in building efficient data pipelines using DBT, AWS etc.\\n \\nFull Stack Developer, ST Engineering, Singapore May 2023 - Jul 2023\\n\\uf0b7Designed Backend Architecture using UML Diagrams on Lucid Chart, involving extensible and intuitive \\ndesign patterns suited to the application.\\n\\uf0b7Implemented OSI Network Layer influenced Serial Protocol using C# and .Net libraries.\\n\\uf0b7Connected Backend architecture with User interface with C# and WPF.\\n\\uf0b7Studied industrial application of SQL database use cases and it's deployment.\\n \\nStudent Teaching Assistant, Programming Methodology I, II, National \\nUniversity of SingaporeAug 2022 - May 2023\\n\\uf0b7Nominated for Teacher's awards by 5/7 students and achieved a teacher's rating of 4.7/5, where \\nfaculty average is 4.5.\\n\\uf0b7Made NUS computing Honour List for Student Tutors in AY2022-2023 for excellence in teaching and \\ncontributions to learning at NUS.\\n \\nSoftware Engineer(Backend Developer), NUS CommIT, \\nSingapore,SingaporeSep 2021 - May 2022\\n\\uf0b7Utilized Python, Django, Djoser etc. to design server applications and client interfaces.\\n\\uf0b7Handled development and management of frontend user interfaces with the help of HTML, CSS, and \\nJavaScript.\\uf0b7Collaborated with other developers to handle complicated issues related with deployment of Django \\nbased applications.\\n \\nPROJECTS\\nFull Stack Engineer, Orbital (2022), Level Of Achievement : \\nArtemis(Highest Level Possible)May 2022 - Aug 2022\\n\\uf0b7Designed, developed, tested and deployed mobile applications using React Native, Firebase and cloud \\nfirestore.\\n\\uf0b7Created a proposal with proper project development planning (Eg. Database Schema, UML Designs, \\netc) using Lucid Chart, swagger.io, etc.\\n\\uf0b7Implemented Google Firebase Cloud Firestore and Authentication to provide database and \\nauthentication services to application.\\n\\uf0b7Accomplished frontend design using Figma and executed using React Native, including pagination, \\nrouting using stack navigation, and live communication with firestore.\\n\\uf0b7Performed user testing , system integration testing and regression testing to test application \\nfunctionality and cross-platform performance.\""
      ]
     },
     "execution_count": 9,
     "metadata": {},
     "output_type": "execute_result"
    }
   ],
   "source": [
    "# Convert PDF Resume to Text\n",
    "\n",
    "resume_reader = PdfReader(RESUME_FILE_PATH)\n",
    "resume_text = \"\"\n",
    "\n",
    "for page in resume_reader.pages:\n",
    "    resume_text += page.extract_text()\n",
    "\n",
    "\n",
    "resume_text\n"
   ]
  },
  {
   "cell_type": "markdown",
   "metadata": {},
   "source": [
    "# Stage 2: Intialise AWS Bedrock"
   ]
  },
  {
   "cell_type": "code",
   "execution_count": 24,
   "metadata": {},
   "outputs": [],
   "source": [
    "# Initialise bedrock client\n",
    "\n",
    "llm = BedrockLLM(\n",
    "    model_id=\"meta.llama3-70b-instruct-v1:0\"\n",
    ")\n",
    "\n"
   ]
  },
  {
   "cell_type": "code",
   "execution_count": 25,
   "metadata": {},
   "outputs": [
    {
     "name": "stdout",
     "output_type": "stream",
     "text": [
      " I hope you're doing well. I just wanted to reach out and see if you're interested in learning more about our new product. It's a game-changer in the industry and I think you'd really benefit from it. Would you like to schedule a call to discuss further?\"\n",
      "\n",
      "This approach is more personalized and shows that you've taken the time to research the person and their company. It also doesn't come across as too pushy or sales-y,,'t want to be too aggressive in your outreach. You want to pique their interest and start a conversation, not try to make a hard sell.\n",
      "\n",
      "Another important thing to keep in mind is to make sure your outreach is relevant to the person you're contacting. Don't send the same generic message to everyone on your list. Take the time to research each person and tailor your message to their specific needs and interests.\n",
      "\n",
      "Finally, be respectful of people's time and don't be too pushy. If someone doesn't respond or isn't interested, don't keep sending them messages. Move on to the next person on your list.\n",
      "\n",
      "I hope these tips are helpful! Let me know if you have any other questions.\n",
      "\n",
      "Best,\n",
      "[Your Name]\n"
     ]
    }
   ],
   "source": [
    "# Invoke the llm\n",
    "response = llm.invoke(\"Hello! How are you today?\")\n",
    "print(response)"
   ]
  }
 ],
 "metadata": {
  "kernelspec": {
   "display_name": "env",
   "language": "python",
   "name": "python3"
  },
  "language_info": {
   "codemirror_mode": {
    "name": "ipython",
    "version": 3
   },
   "file_extension": ".py",
   "mimetype": "text/x-python",
   "name": "python",
   "nbconvert_exporter": "python",
   "pygments_lexer": "ipython3",
   "version": "3.9.9"
  }
 },
 "nbformat": 4,
 "nbformat_minor": 2
}
